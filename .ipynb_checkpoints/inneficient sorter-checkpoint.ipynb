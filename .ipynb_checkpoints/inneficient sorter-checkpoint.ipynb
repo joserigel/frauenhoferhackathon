{
 "cells": [
  {
   "cell_type": "code",
   "execution_count": 1,
   "id": "9b13f1ed",
   "metadata": {},
   "outputs": [
    {
     "ename": "NameError",
     "evalue": "name 'a' is not defined",
     "output_type": "error",
     "traceback": [
      "\u001b[0;31m---------------------------------------------------------------------------\u001b[0m",
      "\u001b[0;31mNameError\u001b[0m                                 Traceback (most recent call last)",
      "Cell \u001b[0;32mIn[1], line 12\u001b[0m\n\u001b[1;32m     10\u001b[0m \u001b[38;5;28;01mfor\u001b[39;00m i \u001b[38;5;129;01min\u001b[39;00m data: \n\u001b[1;32m     11\u001b[0m     estados\u001b[38;5;241m.\u001b[39madd(i[\u001b[38;5;241m1\u001b[39m])\n\u001b[0;32m---> 12\u001b[0m     \u001b[43ma\u001b[49m\u001b[38;5;241m.\u001b[39mappend([])\n\u001b[1;32m     13\u001b[0m \u001b[38;5;28;01mfor\u001b[39;00m e \u001b[38;5;129;01min\u001b[39;00m estados: \n\u001b[1;32m     14\u001b[0m     d[e]\u001b[38;5;241m=\u001b[39m[]\n",
      "\u001b[0;31mNameError\u001b[0m: name 'a' is not defined"
     ]
    }
   ],
   "source": [
    "import pandas as pd\n",
    "import os\n",
    "import shutil\n",
    "df = pd.read_csv('labels_train.csv', header=None, names=['Column1', 'Column2'])\n",
    "data = df.values.tolist()\n",
    "\n",
    "\n",
    "estados = set({})\n",
    "d = {}\n",
    "a=[]\n",
    "for i in data: \n",
    "    estados.add(i[1])\n",
    "    a.append([])\n",
    "for e in estados: \n",
    "    d[e]=[]\n",
    "del d['Label']\n",
    "for i in data:\n",
    "    if i[1]!='Label':\n",
    "        d[i[1]].append(i[0])\n",
    "for e in estados: \n",
    "    if not os.path.exists(f\"./{e}\"):\n",
    "        os.mkdir(e)\n",
    "        \n",
    "for k in d.keys():\n",
    "    for f in d[k]:\n",
    "        src = f\"./train/{f}\"\n",
    "        dest = f\"./{k}/\"\n",
    "        shutil.copy(src, dest)\n"
   ]
  }
 ],
 "metadata": {
  "kernelspec": {
   "display_name": "Python 3 (ipykernel)",
   "language": "python",
   "name": "python3"
  },
  "language_info": {
   "codemirror_mode": {
    "name": "ipython",
    "version": 3
   },
   "file_extension": ".py",
   "mimetype": "text/x-python",
   "name": "python",
   "nbconvert_exporter": "python",
   "pygments_lexer": "ipython3",
   "version": "3.10.10"
  }
 },
 "nbformat": 4,
 "nbformat_minor": 5
}
