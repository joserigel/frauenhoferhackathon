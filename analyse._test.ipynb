{
 "cells": [
  {
   "cell_type": "code",
   "execution_count": 23,
   "metadata": {},
   "outputs": [],
   "source": [
    "import pandas as pd\n",
    "from matplotlib import pyplot as plt\n",
    "import numpy as np\n",
    "import seaborn as sns\n",
    "import cv2 as cv\n",
    "import os\n",
    "import sys\n",
    "import time"
   ]
  },
  {
   "cell_type": "code",
   "execution_count": 24,
   "metadata": {},
   "outputs": [],
   "source": [
    "data_csv_path = 'result.csv'"
   ]
  },
  {
   "cell_type": "code",
   "execution_count": 25,
   "metadata": {},
   "outputs": [
    {
     "data": {
      "text/html": [
       "<div>\n",
       "<style scoped>\n",
       "    .dataframe tbody tr th:only-of-type {\n",
       "        vertical-align: middle;\n",
       "    }\n",
       "\n",
       "    .dataframe tbody tr th {\n",
       "        vertical-align: top;\n",
       "    }\n",
       "\n",
       "    .dataframe thead th {\n",
       "        text-align: right;\n",
       "    }\n",
       "</style>\n",
       "<table border=\"1\" class=\"dataframe\">\n",
       "  <thead>\n",
       "    <tr style=\"text-align: right;\">\n",
       "      <th></th>\n",
       "      <th>id</th>\n",
       "      <th>time</th>\n",
       "      <th>silverdefect</th>\n",
       "      <th>blackdefect</th>\n",
       "      <th>blackspot</th>\n",
       "      <th>teethdefect</th>\n",
       "      <th>index</th>\n",
       "    </tr>\n",
       "  </thead>\n",
       "  <tbody>\n",
       "    <tr>\n",
       "      <th>0</th>\n",
       "      <td>cam1_0013190123054414102.tif</td>\n",
       "      <td>0.692272</td>\n",
       "      <td>True</td>\n",
       "      <td>False</td>\n",
       "      <td>True</td>\n",
       "      <td>False</td>\n",
       "      <td>0</td>\n",
       "    </tr>\n",
       "    <tr>\n",
       "      <th>1</th>\n",
       "      <td>cam1_0013190123055514204.tif</td>\n",
       "      <td>0.669332</td>\n",
       "      <td>True</td>\n",
       "      <td>False</td>\n",
       "      <td>True</td>\n",
       "      <td>True</td>\n",
       "      <td>1</td>\n",
       "    </tr>\n",
       "    <tr>\n",
       "      <th>2</th>\n",
       "      <td>cam1_0013190202130112203.tif</td>\n",
       "      <td>0.675336</td>\n",
       "      <td>True</td>\n",
       "      <td>True</td>\n",
       "      <td>True</td>\n",
       "      <td>False</td>\n",
       "      <td>2</td>\n",
       "    </tr>\n",
       "    <tr>\n",
       "      <th>3</th>\n",
       "      <td>cam1_0013190202130508103.tif</td>\n",
       "      <td>0.641280</td>\n",
       "      <td>True</td>\n",
       "      <td>True</td>\n",
       "      <td>True</td>\n",
       "      <td>False</td>\n",
       "      <td>3</td>\n",
       "    </tr>\n",
       "    <tr>\n",
       "      <th>4</th>\n",
       "      <td>cam1_0013190202130804304.tif</td>\n",
       "      <td>0.656543</td>\n",
       "      <td>True</td>\n",
       "      <td>True</td>\n",
       "      <td>True</td>\n",
       "      <td>False</td>\n",
       "      <td>4</td>\n",
       "    </tr>\n",
       "  </tbody>\n",
       "</table>\n",
       "</div>"
      ],
      "text/plain": [
       "                             id      time  silverdefect  blackdefect  \\\n",
       "0  cam1_0013190123054414102.tif  0.692272          True        False   \n",
       "1  cam1_0013190123055514204.tif  0.669332          True        False   \n",
       "2  cam1_0013190202130112203.tif  0.675336          True         True   \n",
       "3  cam1_0013190202130508103.tif  0.641280          True         True   \n",
       "4  cam1_0013190202130804304.tif  0.656543          True         True   \n",
       "\n",
       "   blackspot  teethdefect  index  \n",
       "0       True        False      0  \n",
       "1       True         True      1  \n",
       "2       True        False      2  \n",
       "3       True        False      3  \n",
       "4       True        False      4  "
      ]
     },
     "execution_count": 25,
     "metadata": {},
     "output_type": "execute_result"
    }
   ],
   "source": [
    "df = pd.read_csv(data_csv_path)\n",
    "df['index'] = df.index\n",
    "df.head()"
   ]
  },
  {
   "cell_type": "code",
   "execution_count": 26,
   "metadata": {},
   "outputs": [
    {
     "data": {
      "image/png": "[encoded data removed]",
      "text/plain": [
       "<Figure size 432x288 with 1 Axes>"
      ]
     },
     "metadata": {
      "needs_background": "light"
     },
     "output_type": "display_data"
    }
   ],
   "source": [
    "ax = sns.lineplot(data=df,x='index',y=\"time\")\n",
    "ax.set(title='Amount of input')\n",
    "ax.set_xticklabels(ax.get_xticklabels(), fontsize=7)\n",
    "plt.tight_layout()\n",
    "plt.show()"
   ]
  },
  {
   "cell_type": "code",
   "execution_count": 27,
   "metadata": {},
   "outputs": [],
   "source": [
    "defect = {\n",
    "  'good':0,\n",
    "  'silverdefect':0,\n",
    "  'blackdefect':0,\n",
    "  'blackspot':0,\n",
    "  'teethdefect':0,\n",
    "}\n",
    "for index,row in df.iterrows():\n",
    "  \n",
    "  if row['silverdefect'] == True:\n",
    "    defect['silverdefect'] += 1 \n",
    " \n",
    "  if row['blackdefect'] == True:\n",
    "    defect['blackdefect'] += 1\n",
    "    \n",
    "  if row['teethdefect'] == True:\n",
    "    defect['teethdefect'] += 1\n",
    "    \n",
    "  if row['blackspot'] == True:\n",
    "    defect['blackspot'] += 1\n",
    "    \n",
    "  if row['blackspot'] == False and row['teethdefect'] == False and row['blackdefect'] == False:\n",
    "    defect['good'] += 1"
   ]
  },
  {
   "cell_type": "code",
   "execution_count": 28,
   "metadata": {},
   "outputs": [],
   "source": [
    "to_plot = {\"categories\":list(defect.keys()),\"frequency\":list(defect.values())}"
   ]
  },
  {
   "cell_type": "code",
   "execution_count": 29,
   "metadata": {},
   "outputs": [
    {
     "data": {
      "image/png": "[encoded data removed]",
      "text/plain": [
       "<Figure size 432x288 with 1 Axes>"
      ]
     },
     "metadata": {
      "needs_background": "light"
     },
     "output_type": "display_data"
    }
   ],
   "source": [
    "ax = sns.barplot(data=to_plot,x='categories',y='frequency')\n",
    "ax.set(title='Amount of output')\n",
    "ax.set_xticklabels(ax.get_xticklabels(), fontsize=7)\n",
    "plt.tight_layout()\n",
    "plt.show()"
   ]
  }
 ],
 "metadata": {
  "kernelspec": {
   "display_name": "Python 3",
   "language": "python",
   "name": "python3"
  },
  "language_info": {
   "codemirror_mode": {
    "name": "ipython",
    "version": 3
   },
   "file_extension": ".py",
   "mimetype": "text/x-python",
   "name": "python",
   "nbconvert_exporter": "python",
   "pygments_lexer": "ipython3",
   "version": "3.7.13"
  },
  "orig_nbformat": 4
 },
 "nbformat": 4,
 "nbformat_minor": 2
}
