{
 "cells": [
  {
   "cell_type": "code",
   "execution_count": 10,
   "metadata": {},
   "outputs": [
    {
     "name": "stderr",
     "output_type": "stream",
     "text": [
      " 26%|██▌       | 313/1201 [05:36<13:41,  1.08it/s]"
     ]
    }
   ],
   "source": [
    "from Image import Image\n",
    "from tqdm import tqdm\n",
    "from glob import glob\n",
    "\n",
    "folder = \"good\"\n",
    "sidespots = 0\n",
    "teeth = 0\n",
    "for c in tqdm(glob('../' + folder + '/*.tif')[:30]):\n",
    "    img = Image(c)\n",
    "    l =Image.detect_side_lr(img, True)\n",
    "    r =Image.detect_side_lr(img, False)\n",
    "    if (Image.defect_valid(l) or Image.defect_valid(r)):\n",
    "        sidespots+= 1\n",
    "\n",
    "    img = Image(c)\n",
    "    b =Image.detect_side_tb(img, True)\n",
    "    t =Image.detect_side_tb(img, False)\n",
    "    if (Image.defect_valid(t) or Image.defect_valid(b)):\n",
    "        teeth += 1\n",
    "\n",
    "print(\"Sides:\", sidespots, len(tqdm(glob('../' + folder + '/*.tif'))))\n",
    "print(\"Teeth:\", teeth, len(tqdm(glob('../' + folder + '/*.tif'))))\n",
    "\n",
    "    "
   ]
  }
 ],
 "metadata": {
  "kernelspec": {
   "display_name": "env",
   "language": "python",
   "name": "python3"
  },
  "language_info": {
   "codemirror_mode": {
    "name": "ipython",
    "version": 3
   },
   "file_extension": ".py",
   "mimetype": "text/x-python",
   "name": "python",
   "nbconvert_exporter": "python",
   "pygments_lexer": "ipython3",
   "version": "3.11.2"
  },
  "orig_nbformat": 4
 },
 "nbformat": 4,
 "nbformat_minor": 2
}
