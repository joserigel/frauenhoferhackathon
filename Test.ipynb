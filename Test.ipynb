{
 "cells": [
  {
   "cell_type": "code",
   "execution_count": 7,
   "metadata": {},
   "outputs": [],
   "source": [
    "import pandas as pd\n",
    "from Image import Image\n",
    "import numpy as np\n",
    "import time\n",
    "import os\n",
    "from tqdm import tqdm\n",
    "import cv2"
   ]
  },
  {
   "cell_type": "code",
   "execution_count": 8,
   "metadata": {},
   "outputs": [],
   "source": [
    "def find_defect(filename):\n",
    "    time0 = time.time()\n",
    "    image = Image(filename)\n",
    "    time_delta = time.time()-time0\n",
    "    filename = filename.split('\\\\')\n",
    "    blackspot = False\n",
    "    new_file = os.path.join(os.getcwd(),'result', f\"{filename[-1][:-3]}.png\")\n",
    "    \n",
    "    l = image.detect_side_lr(True)\n",
    "    r = image.detect_side_lr(False)\n",
    "    if image.defect_valid(l) or image.defect_valid(r):\n",
    "        blackspot = True\n",
    "        \n",
    "    teeth = False\n",
    "    t = image.detect_side_tb(False)\n",
    "    b = image.detect_side_tb(True)\n",
    "    if image.defect_valid(t) or image.defect_valid(b):\n",
    "        teeth = True\n",
    "    cv2.imwrite(new_file, image.processed_image)\n",
    "    data = ''\n",
    "    data = f\"{filename[-1]},{time_delta},{image.grid_silver > 14},{str(image.grid_value > image.grid_threshold)},{blackspot},{teeth}\\n\"\n",
    "    # print(data)\n",
    "    return data"
   ]
  },
  {
   "cell_type": "code",
   "execution_count": 9,
   "metadata": {},
   "outputs": [],
   "source": [
    "file_path = \"G:\\\\test\\\\test\"\n",
    "results_path = 'result.csv'"
   ]
  },
  {
   "cell_type": "code",
   "execution_count": 10,
   "metadata": {},
   "outputs": [
    {
     "name": "stdout",
     "output_type": "stream",
     "text": [
      "1424\n"
     ]
    }
   ],
   "source": [
    "print(len(os.listdir(file_path)))"
   ]
  },
  {
   "cell_type": "code",
   "execution_count": 11,
   "metadata": {},
   "outputs": [],
   "source": [
    "with open(results_path,'w') as file:\n",
    "  file.write('id,time,silverdefect,blackdefect,blackspot,teethdefect\\n')"
   ]
  },
  {
   "cell_type": "code",
   "execution_count": 12,
   "metadata": {},
   "outputs": [
    {
     "name": "stderr",
     "output_type": "stream",
     "text": [
      " 11%|█         | 158/1424 [01:51<14:19,  1.47it/s]C:\\Users\\Papop\\AppData\\Roaming\\Python\\Python310\\site-packages\\scipy\\interpolate\\_fitpack_impl.py:505: RuntimeWarning: The maximal number of iterations (20) allowed for finding smoothing\n",
      "spline with fp=s has been reached. Probable cause: s too small.\n",
      "(abs(fp-s)/s>0.001)\n",
      "  warnings.warn(RuntimeWarning(_iermess[ier][0]))\n",
      " 13%|█▎        | 190/1424 [02:13<14:11,  1.45it/s]"
     ]
    }
   ],
   "source": [
    "with open(results_path,'a') as file:\n",
    "  for files in tqdm(os.listdir(file_path)):\n",
    "    data = find_defect(os.path.join(file_path, files))\n",
    "    file.write(data)"
   ]
  }
 ],
 "metadata": {
  "kernelspec": {
   "display_name": "env",
   "language": "python",
   "name": "python3"
  },
  "language_info": {
   "codemirror_mode": {
    "name": "ipython",
    "version": 3
   },
   "file_extension": ".py",
   "mimetype": "text/x-python",
   "name": "python",
   "nbconvert_exporter": "python",
   "pygments_lexer": "ipython3",
   "version": "3.10.5"
  },
  "orig_nbformat": 4
 },
 "nbformat": 4,
 "nbformat_minor": 2
}
