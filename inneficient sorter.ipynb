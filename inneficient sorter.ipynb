{
 "cells": [
  {
   "cell_type": "code",
   "execution_count": 31,
   "id": "9b13f1ed",
   "metadata": {},
   "outputs": [],
   "source": [
    "import pandas as pd\n",
    "import os\n",
    "import shutil\n",
    "df = pd.read_csv('labels_train.csv', header=None, names=['Column1', 'Column2'])\n",
    "data = df.values.tolist()\n",
    "\n",
    "\n",
    "estados = set({})\n",
    "d = {}\n",
    "for i in data: \n",
    "    estados.add(i[1])\n",
    "    a.append([])\n",
    "for e in estados: \n",
    "    d[e]=[]\n",
    "del d['Label']\n",
    "for i in data:\n",
    "    if i[1]!='Label':\n",
    "        d[i[1]].append(i[0])\n",
    "for e in estados: \n",
    "    if not os.path.exists(f\"./{e}\"):\n",
    "        os.mkdir(e)\n",
    "        \n",
    "for k in d.keys():\n",
    "    for f in d[k]:\n",
    "        src = f\"./train/{f}\"\n",
    "        dest = f\"./{k}/\"\n",
    "        shutil.copy(src, dest)\n"
   ]
  }
 ],
 "metadata": {
  "kernelspec": {
   "display_name": "Python 3 (ipykernel)",
   "language": "python",
   "name": "python3"
  },
  "language_info": {
   "codemirror_mode": {
    "name": "ipython",
    "version": 3
   },
   "file_extension": ".py",
   "mimetype": "text/x-python",
   "name": "python",
   "nbconvert_exporter": "python",
   "pygments_lexer": "ipython3",
   "version": "3.10.10"
  }
 },
 "nbformat": 4,
 "nbformat_minor": 5
}
