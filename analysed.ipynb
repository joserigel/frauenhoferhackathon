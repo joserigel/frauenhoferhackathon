{
 "cells": [
  {
   "cell_type": "code",
   "execution_count": 25,
   "metadata": {},
   "outputs": [],
   "source": [
    "import pandas as pd\n",
    "from matplotlib import pyplot as plt\n",
    "import numpy as np\n",
    "import seaborn as sns\n",
    "import cv2 as cv\n",
    "import os\n",
    "import sys\n",
    "import time"
   ]
  },
  {
   "cell_type": "code",
   "execution_count": 26,
   "metadata": {},
   "outputs": [],
   "source": [
    "def series_to_df(series,name,val):\n",
    "  res_df = series.reset_index()\n",
    "  res_df.columns = ['index',name, val]\n",
    "  return res_df"
   ]
  },
  {
   "cell_type": "code",
   "execution_count": 27,
   "metadata": {},
   "outputs": [],
   "source": [
    "cwd = os.getcwd()\n",
    "data_csv_path = os.path.join(\"data.csv\")\n",
    "new_img_path = os.path.join(cwd,\"/img\")\n",
    "org_img_path = 'F:\\hackathon'"
   ]
  },
  {
   "cell_type": "code",
   "execution_count": 28,
   "metadata": {},
   "outputs": [],
   "source": [
    "category = os.listdir(org_img_path)\n",
    "files = []\n",
    "for cat in category:\n",
    "  f = os.listdir(os.path.join(org_img_path,cat))\n",
    "  files.append(len(f))\n",
    "  \n",
    "category = {\"category\":category,\"amount\":files}\n",
    "category = pd.DataFrame(category)"
   ]
  },
  {
   "cell_type": "code",
   "execution_count": 29,
   "metadata": {},
   "outputs": [
    {
     "data": {
      "image/png": "[encoded data removed]",
      "text/plain": [
       "<Figure size 432x288 with 1 Axes>"
      ]
     },
     "metadata": {
      "needs_background": "light"
     },
     "output_type": "display_data"
    }
   ],
   "source": [
    "ax = sns.barplot(data=category,x=\"category\",y=\"amount\",orient='v')\n",
    "ax.set(title='Amount of input')\n",
    "ax.set_xticklabels(ax.get_xticklabels(), fontsize=7)\n",
    "plt.tight_layout()\n",
    "plt.show()"
   ]
  },
  {
   "cell_type": "code",
   "execution_count": 30,
   "metadata": {},
   "outputs": [
    {
     "data": {
      "text/html": [
       "<div>\n",
       "<style scoped>\n",
       "    .dataframe tbody tr th:only-of-type {\n",
       "        vertical-align: middle;\n",
       "    }\n",
       "\n",
       "    .dataframe tbody tr th {\n",
       "        vertical-align: top;\n",
       "    }\n",
       "\n",
       "    .dataframe thead th {\n",
       "        text-align: right;\n",
       "    }\n",
       "</style>\n",
       "<table border=\"1\" class=\"dataframe\">\n",
       "  <thead>\n",
       "    <tr style=\"text-align: right;\">\n",
       "      <th></th>\n",
       "      <th>index</th>\n",
       "      <th>filename</th>\n",
       "      <th>category</th>\n",
       "      <th>runtime</th>\n",
       "      <th>silver_defect</th>\n",
       "      <th>black_defect</th>\n",
       "      <th>blackspot</th>\n",
       "      <th>teeth_defect</th>\n",
       "    </tr>\n",
       "  </thead>\n",
       "  <tbody>\n",
       "    <tr>\n",
       "      <th>0</th>\n",
       "      <td>0</td>\n",
       "      <td>d:\\PROJECTS\\frauenhoferhackathon\\imgs\\cam1_001...</td>\n",
       "      <td>black_spot_sideprotector</td>\n",
       "      <td>1.619395</td>\n",
       "      <td>True</td>\n",
       "      <td>False</td>\n",
       "      <td>True</td>\n",
       "      <td>False</td>\n",
       "    </tr>\n",
       "    <tr>\n",
       "      <th>1</th>\n",
       "      <td>1</td>\n",
       "      <td>d:\\PROJECTS\\frauenhoferhackathon\\imgs\\cam1_001...</td>\n",
       "      <td>black_defect</td>\n",
       "      <td>0.704811</td>\n",
       "      <td>True</td>\n",
       "      <td>False</td>\n",
       "      <td>True</td>\n",
       "      <td>False</td>\n",
       "    </tr>\n",
       "    <tr>\n",
       "      <th>2</th>\n",
       "      <td>2</td>\n",
       "      <td>d:\\PROJECTS\\frauenhoferhackathon\\imgs\\cam4_001...</td>\n",
       "      <td>black_defect</td>\n",
       "      <td>0.726925</td>\n",
       "      <td>True</td>\n",
       "      <td>False</td>\n",
       "      <td>True</td>\n",
       "      <td>False</td>\n",
       "    </tr>\n",
       "    <tr>\n",
       "      <th>3</th>\n",
       "      <td>3</td>\n",
       "      <td>d:\\PROJECTS\\frauenhoferhackathon\\imgs\\cam4_001...</td>\n",
       "      <td>good</td>\n",
       "      <td>0.727662</td>\n",
       "      <td>True</td>\n",
       "      <td>False</td>\n",
       "      <td>False</td>\n",
       "      <td>False</td>\n",
       "    </tr>\n",
       "    <tr>\n",
       "      <th>4</th>\n",
       "      <td>4</td>\n",
       "      <td>d:\\PROJECTS\\frauenhoferhackathon\\imgs\\cam1_001...</td>\n",
       "      <td>teeth_defect</td>\n",
       "      <td>0.713789</td>\n",
       "      <td>True</td>\n",
       "      <td>False</td>\n",
       "      <td>True</td>\n",
       "      <td>True</td>\n",
       "    </tr>\n",
       "  </tbody>\n",
       "</table>\n",
       "</div>"
      ],
      "text/plain": [
       "   index                                           filename  \\\n",
       "0      0  d:\\PROJECTS\\frauenhoferhackathon\\imgs\\cam1_001...   \n",
       "1      1  d:\\PROJECTS\\frauenhoferhackathon\\imgs\\cam1_001...   \n",
       "2      2  d:\\PROJECTS\\frauenhoferhackathon\\imgs\\cam4_001...   \n",
       "3      3  d:\\PROJECTS\\frauenhoferhackathon\\imgs\\cam4_001...   \n",
       "4      4  d:\\PROJECTS\\frauenhoferhackathon\\imgs\\cam1_001...   \n",
       "\n",
       "                   category   runtime  silver_defect  black_defect  blackspot  \\\n",
       "0  black_spot_sideprotector  1.619395           True         False       True   \n",
       "1              black_defect  0.704811           True         False       True   \n",
       "2              black_defect  0.726925           True         False       True   \n",
       "3                      good  0.727662           True         False      False   \n",
       "4              teeth_defect  0.713789           True         False       True   \n",
       "\n",
       "   teeth_defect  \n",
       "0         False  \n",
       "1         False  \n",
       "2         False  \n",
       "3         False  \n",
       "4          True  "
      ]
     },
     "execution_count": 30,
     "metadata": {},
     "output_type": "execute_result"
    }
   ],
   "source": [
    "df = pd.read_csv(data_csv_path)\n",
    "df.head()"
   ]
  },
  {
   "attachments": {},
   "cell_type": "markdown",
   "metadata": {},
   "source": [
    "## Time distribution"
   ]
  },
  {
   "cell_type": "code",
   "execution_count": 31,
   "metadata": {},
   "outputs": [
    {
     "data": {
      "image/png": "[encoded data removed]",
      "text/plain": [
       "<Figure size 432x288 with 1 Axes>"
      ]
     },
     "metadata": {
      "needs_background": "light"
     },
     "output_type": "display_data"
    }
   ],
   "source": [
    "ax = sns.lineplot(data=df,x=\"index\",y=\"runtime\")\n",
    "ax.set(title='Amount of input')\n",
    "ax.set_xticklabels(ax.get_xticklabels(), fontsize=7)\n",
    "plt.tight_layout()\n",
    "plt.show()"
   ]
  },
  {
   "attachments": {},
   "cell_type": "markdown",
   "metadata": {},
   "source": [
    "## Category Frequencies"
   ]
  },
  {
   "cell_type": "code",
   "execution_count": 32,
   "metadata": {},
   "outputs": [],
   "source": [
    "real_cat = df.value_counts(\"category\")\n",
    "real_cat = real_cat.to_frame()\n",
    "real_cat_df = real_cat.reset_index()\n",
    "real_cat_df.columns = ['categories', 'frequency']"
   ]
  },
  {
   "cell_type": "code",
   "execution_count": 33,
   "metadata": {},
   "outputs": [
    {
     "data": {
      "image/png": "[encoded data removed]",
      "text/plain": [
       "<Figure size 432x288 with 1 Axes>"
      ]
     },
     "metadata": {
      "needs_background": "light"
     },
     "output_type": "display_data"
    }
   ],
   "source": [
    "\n",
    "ax = sns.barplot(data=real_cat_df,x='categories',y='frequency')\n",
    "ax.set(title='Amount of input')\n",
    "ax.set_xticklabels(ax.get_xticklabels(), fontsize=7)\n",
    "plt.tight_layout()\n",
    "plt.show()"
   ]
  },
  {
   "attachments": {},
   "cell_type": "markdown",
   "metadata": {},
   "source": [
    "## Processedimage Frequencies"
   ]
  },
  {
   "cell_type": "code",
   "execution_count": 34,
   "metadata": {},
   "outputs": [],
   "source": [
    "defect = {\n",
    "  'silver_defect':0,\n",
    "  'black_defect':0,\n",
    "  'teeth_defect':0,\n",
    "  'blackspot':0,\n",
    "  'good':0\n",
    "}\n",
    "\"\"\"\n",
    "*********************\n",
    "ADD SILVER DEFECTTTTTTTTTTTTTTTTT\n",
    "*********************\n",
    "\n",
    "\"\"\"\n",
    "for index,row in df.iterrows():\n",
    "  if row['black_defect'] == True:\n",
    "    defect['black_defect'] += 1\n",
    "    \n",
    "  if row['teeth_defect'] == True:\n",
    "    defect['teeth_defect'] += 1\n",
    "    \n",
    "  if row['blackspot'] == True:\n",
    "    defect['blackspot'] += 1\n",
    "    \n",
    "  if row['blackspot'] == False and row['teeth_defect'] == False and row['black_defect'] == False:\n",
    "    defect['good'] += 1"
   ]
  },
  {
   "cell_type": "code",
   "execution_count": 35,
   "metadata": {},
   "outputs": [],
   "source": [
    "to_plot = {\"categories\":list(defect.keys()),\"frequency\":list(defect.values())}"
   ]
  },
  {
   "cell_type": "code",
   "execution_count": 36,
   "metadata": {},
   "outputs": [
    {
     "data": {
      "image/png": "[encoded data removed]",
      "text/plain": [
       "<Figure size 432x288 with 1 Axes>"
      ]
     },
     "metadata": {
      "needs_background": "light"
     },
     "output_type": "display_data"
    }
   ],
   "source": [
    "ax = sns.barplot(data=to_plot,x='categories',y='frequency')\n",
    "ax.set(title='Amount of output')\n",
    "ax.set_xticklabels(ax.get_xticklabels(), fontsize=7)\n",
    "plt.tight_layout()\n",
    "plt.show()"
   ]
  },
  {
   "cell_type": "code",
   "execution_count": null,
   "metadata": {},
   "outputs": [],
   "source": []
  }
 ],
 "metadata": {
  "kernelspec": {
   "display_name": "Python 3",
   "language": "python",
   "name": "python3"
  },
  "language_info": {
   "codemirror_mode": {
    "name": "ipython",
    "version": 3
   },
   "file_extension": ".py",
   "mimetype": "text/x-python",
   "name": "python",
   "nbconvert_exporter": "python",
   "pygments_lexer": "ipython3",
   "version": "3.7.13"
  },
  "orig_nbformat": 4
 },
 "nbformat": 4,
 "nbformat_minor": 2
}
