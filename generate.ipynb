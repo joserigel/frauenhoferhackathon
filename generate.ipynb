{
 "cells": [
  {
   "cell_type": "code",
   "execution_count": null,
   "metadata": {},
   "outputs": [],
   "source": [
    "import os\n",
    "import cv2\n",
    "import matplotlib.pyplot as plt\n",
    "import PIL\n",
    "from Image import Image\n",
    "import time\n",
    "import numpy as np\n",
    "from tqdm import tqdm"
   ]
  },
  {
   "cell_type": "code",
   "execution_count": null,
   "metadata": {},
   "outputs": [],
   "source": [
    "def get_files(path: str):\n",
    "    if not os.path.isdir(path):\n",
    "        raise FileExistsError\n",
    "    files = []\n",
    "    for image in os.listdir(path):\n",
    "        files.append(os.path.join(path, image))\n",
    "    return files"
   ]
  },
  {
   "cell_type": "code",
   "execution_count": null,
   "metadata": {},
   "outputs": [],
   "source": [
    "def detect_error(image):  # the input is assumed to be a np.array image\n",
    "    threshold = 200\n",
    "    white_pixels = np.count_nonzero(image > threshold)  # count white pixels\n",
    "    if white_pixels:\n",
    "        return True\n",
    "    return False"
   ]
  },
  {
   "cell_type": "code",
   "execution_count": null,
   "metadata": {},
   "outputs": [],
   "source": [
    "def find_defect(filename):\n",
    "    \n",
    "    time0 = time.time()\n",
    "    image = Image(filename)\n",
    "    time_delta = time.time()-time0\n",
    "    filename = filename.split('\\\\')\n",
    "    new_file = os.path.join(os.getcwd(),'imgs', f\"{filename[-1][:-3]}.png\")\n",
    "    cv2.imwrite(new_file, image.processed_image)\n",
    "    data = f\"{new_file},{filename[-2]},{time_delta},{str(detect_error(image.processed_image))},{str(image.grid_value > image.grid_threshold)},{str(detect_error(image.blackspot['left']) and detect_error(image.blackspot['right']))},{str(detect_error(image.teeth['top']) and detect_error(image.teeth['bottom']))}\\n\"\n",
    "    return data"
   ]
  },
  {
   "cell_type": "code",
   "execution_count": null,
   "metadata": {},
   "outputs": [],
   "source": [
    "path = \"F:\\hackathon\"\n",
    "category = os.listdir(path)\n",
    "files = []\n",
    "for cat in category:\n",
    "  f = get_files(os.path.join(path,cat))\n",
    "  files.append(f)\n"
   ]
  },
  {
   "cell_type": "code",
   "execution_count": null,
   "metadata": {},
   "outputs": [],
   "source": [
    "files[0][0].split('\\\\')"
   ]
  },
  {
   "cell_type": "code",
   "execution_count": null,
   "metadata": {},
   "outputs": [],
   "source": [
    "data = \"index,filename,category,runtime,silver_defect,black_defeck,blackspot,teeth_defect\\n\"\n",
    "index = 0\n",
    "for cat in tqdm(files):\n",
    "  for image in cat:\n",
    "    print(image)\n",
    "    data += str(index)\n",
    "    data += find_defect(image)\n",
    "    index += 1\n"
   ]
  },
  {
   "cell_type": "code",
   "execution_count": null,
   "metadata": {},
   "outputs": [],
   "source": [
    "with open('data.csv','w') as file:\n",
    "  file.write(data)"
   ]
  }
 ],
 "metadata": {
  "kernelspec": {
   "display_name": "Python 3",
   "language": "python",
   "name": "python3"
  },
  "language_info": {
   "codemirror_mode": {
    "name": "ipython",
    "version": 3
   },
   "file_extension": ".py",
   "mimetype": "text/x-python",
   "name": "python",
   "nbconvert_exporter": "python",
   "pygments_lexer": "ipython3",
   "version": "3.10.5"
  },
  "orig_nbformat": 4
 },
 "nbformat": 4,
 "nbformat_minor": 2
}
