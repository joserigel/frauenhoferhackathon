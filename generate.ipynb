{
 "cells": [
  {
   "cell_type": "code",
   "execution_count": 1,
   "metadata": {},
   "outputs": [],
   "source": [
    "import os\n",
    "import cv2\n",
    "import matplotlib.pyplot as plt\n",
    "from Image import Image\n",
    "import time\n",
    "import numpy as np\n",
    "from tqdm import tqdm\n",
    "import random"
   ]
  },
  {
   "cell_type": "code",
   "execution_count": 2,
   "metadata": {},
   "outputs": [],
   "source": [
    "def get_files(path: str):\n",
    "    if not os.path.isdir(path):\n",
    "        raise FileExistsError\n",
    "    files = []\n",
    "    for image in os.listdir(path):\n",
    "        files.append(os.path.join(path, image))\n",
    "    return files"
   ]
  },
  {
   "cell_type": "code",
   "execution_count": 3,
   "metadata": {},
   "outputs": [],
   "source": [
    "def detect_error(image):  # the input is assumed to be a np.array image\n",
    "    threshold = 150\n",
    "    white_pixels = np.count_nonzero(image > threshold)  # count white pixels\n",
    "    if white_pixels:\n",
    "        return True\n",
    "    return False"
   ]
  },
  {
   "cell_type": "code",
   "execution_count": 19,
   "metadata": {},
   "outputs": [],
   "source": [
    "def find_defect(filename):\n",
    "    time0 = time.time()\n",
    "    image = Image(filename)\n",
    "    time_delta = time.time()-time0\n",
    "    # filename = filename.split('\\\\')\n",
    "    new_file = os.path.join(os.getcwd(),'imgs', f\"{filename[-1][:-3]}.png\")\n",
    "    # cv2.imwrite(new_file, image.processed_image)\n",
    "    data = ''\n",
    "    data = f\"{new_file},{filename[-2]},{time_delta},{str(detect_error(image.processed_image))},{str(image.grid_value > image.grid_threshold)},{str(detect_error(image.blackspot['left']) or detect_error(image.blackspot['right']))},{str(detect_error(image.teeth['top']) or detect_error(image.teeth['bottom']))}\\n\"\n",
    "    return data"
   ]
  },
  {
   "cell_type": "code",
   "execution_count": 5,
   "metadata": {},
   "outputs": [
    {
     "data": {
      "text/plain": [
       "['silver_defect',\n",
       " 'teeth_defect',\n",
       " 'black_defect',\n",
       " 'black_spot_sideprotector',\n",
       " 'good']"
      ]
     },
     "execution_count": 5,
     "metadata": {},
     "output_type": "execute_result"
    }
   ],
   "source": [
    "path = \"F:\\hackathon\"\n",
    "category = os.listdir(path)\n",
    "files = []\n",
    "category"
   ]
  },
  {
   "cell_type": "code",
   "execution_count": 6,
   "metadata": {},
   "outputs": [],
   "source": [
    "for cat in category:\n",
    "  # if cat == 'teeth_defect':\n",
    "  f = get_files(os.path.join(path,cat))\n",
    "  # continue\n",
    "  files.append(f)\n",
    "files = [item for sublist in files for item in sublist]"
   ]
  },
  {
   "cell_type": "code",
   "execution_count": 7,
   "metadata": {},
   "outputs": [],
   "source": [
    "random.shuffle(files)\n",
    "files = files[:100]"
   ]
  },
  {
   "cell_type": "code",
   "execution_count": 20,
   "metadata": {},
   "outputs": [
    {
     "name": "stderr",
     "output_type": "stream",
     "text": [
      "100it [00:00, 100078.84it/s]\n"
     ]
    }
   ],
   "source": [
    "data = \"index,filename,category,runtime,silver_defect,black_defect,blackspot,teeth_defect\\n\"\n",
    "index = 0\n",
    "for index,image in tqdm(enumerate(files)):\n",
    "  # data += str(index)+','\n",
    "  data += find_defect(image)\n",
    "    "
   ]
  },
  {
   "cell_type": "code",
   "execution_count": 11,
   "metadata": {},
   "outputs": [],
   "source": [
    "with open('data.csv','w') as file:\n",
    "  file.write(data)"
   ]
  }
 ],
 "metadata": {
  "kernelspec": {
   "display_name": "Python 3",
   "language": "python",
   "name": "python3"
  },
  "language_info": {
   "codemirror_mode": {
    "name": "ipython",
    "version": 3
   },
   "file_extension": ".py",
   "mimetype": "text/x-python",
   "name": "python",
   "nbconvert_exporter": "python",
   "pygments_lexer": "ipython3",
   "version": "3.10.5"
  },
  "orig_nbformat": 4
 },
 "nbformat": 4,
 "nbformat_minor": 2
}
